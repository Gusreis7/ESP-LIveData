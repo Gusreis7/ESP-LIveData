{
 "cells": [
  {
   "cell_type": "code",
   "execution_count": 1,
   "metadata": {},
   "outputs": [],
   "source": [
    "import matplotlib.pyplot as plt\n",
    "import requests\n",
    "import time\n",
    "import tqdm\n",
    "from requests.exceptions import ConnectionError\n",
    "import pandas as pd"
   ]
  },
  {
   "cell_type": "code",
   "execution_count": 2,
   "metadata": {},
   "outputs": [
    {
     "name": "stdout",
     "output_type": "stream",
     "text": [
      "Data collection stopped and file closed.\n"
     ]
    }
   ],
   "source": [
    "data = open(\"data.txt\", 'w')\n",
    "data.write(\"temperature,humidity\\n\")\n",
    "\n",
    "try:\n",
    "    while True:\n",
    "        time.sleep(0.5)\n",
    "        try:\n",
    "            temperature = requests.get('http://192.168.100.34/temperature').json()\n",
    "            humidity = requests.get('http://192.168.100.34/humidity').json()\n",
    "            data.write(f'{temperature},{humidity}\\n')\n",
    "        except ConnectionError:\n",
    "            print(\"Failed to connect to the server. Retrying...\")\n",
    "except KeyboardInterrupt:\n",
    "    data.close()\n",
    "    print(\"Data collection stopped and file closed.\")"
   ]
  }
 ],
 "metadata": {
  "kernelspec": {
   "display_name": "esp",
   "language": "python",
   "name": "python3"
  },
  "language_info": {
   "codemirror_mode": {
    "name": "ipython",
    "version": 3
   },
   "file_extension": ".py",
   "mimetype": "text/x-python",
   "name": "python",
   "nbconvert_exporter": "python",
   "pygments_lexer": "ipython3",
   "version": "3.9.19"
  }
 },
 "nbformat": 4,
 "nbformat_minor": 2
}
