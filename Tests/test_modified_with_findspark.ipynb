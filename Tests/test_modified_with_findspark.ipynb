{
 "cells": [
  {
   "cell_type": "code",
   "execution_count": 9,
   "metadata": {},
   "outputs": [],
   "source": [
    "import findspark\n",
    "findspark.init()\n",
    "\n",
    "from pyspark.sql import SparkSession\n",
    "from pyspark.sql.types import StructType, StructField, StringType, FloatType\n",
    "from pyspark.sql.functions import lit"
   ]
  },
  {
   "cell_type": "code",
   "execution_count": 15,
   "metadata": {},
   "outputs": [],
   "source": [
    "from pyspark.sql import SparkSession\n",
    "from pyspark.sql.functions import lit\n",
    "from pyspark.sql.types import StructType, StructField, StringType, FloatType\n"
   ]
  },
  {
   "cell_type": "code",
   "execution_count": 17,
   "metadata": {},
   "outputs": [],
   "source": [
    "class SparkData:\n",
    "    def __init__(self, session_name, schema):\n",
    "        self.spark = SparkSession.builder.appName(session_name).getOrCreate()\n",
    "        self.dataframe = self.spark.createDataFrame(self.spark.sparkContext.emptyRDD(), schema)\n",
    "\n",
    "    def add_line(self, line):\n",
    "        new_line = self.spark.createDataFrame(line, self.dataframe.schema)\n",
    "        self.dataframe = self.dataframe.union(new_line)\n",
    "\n",
    "    def add_multiple_lines(self, lines):\n",
    "        new_lines_df = self.spark.createDataFrame(lines, self.dataframe.schema)\n",
    "        self.dataframe = self.dataframe.union(new_lines_df)\n",
    "\n",
    "    def save_parquet(self, path_save):\n",
    "        self.dataframe.write.mode(\"overwrite\").parquet(path_save)\n",
    "\n",
    "# Teste de adicionar 100 linhas\n",
    "schema = StructType([\n",
    "    StructField(\"data\", StringType(), True),\n",
    "    StructField(\"temperatura\", FloatType(), True),\n",
    "    StructField(\"umidade\", FloatType(), True)\n",
    "])\n",
    "\n",
    "myspark = SparkData(session_name='teste', schema=schema)\n",
    "\n",
    "# Adicionando 100 linhas de teste\n",
    "lines = [(f\"2024-09-03\", 25.0 + i, 60.0 + i) for i in range(100)]\n",
    "myspark.add_multiple_lines(lines)\n",
    "\n",
    "myspark.dataframe.show(100)"
   ]
  },
  {
   "cell_type": "code",
   "execution_count": 18,
   "metadata": {},
   "outputs": [],
   "source": [
    "# Defina o esquema do DataFrame\n",
    "schema = StructType([\n",
    "    StructField(\"data\", StringType(), True),\n",
    "    StructField(\"temperatura\", FloatType(), True),\n",
    "    StructField(\"umidade\", FloatType(), True)\n",
    "])\n"
   ]
  },
  {
   "cell_type": "code",
   "execution_count": 19,
   "metadata": {},
   "outputs": [
    {
     "name": "stderr",
     "output_type": "stream",
     "text": [
      "24/09/03 14:07:42 WARN SparkSession: Using an existing Spark session; only runtime SQL configurations will take effect.\n"
     ]
    }
   ],
   "source": [
    "myspark = SparkData(session_name='teste',schema=schema)"
   ]
  },
  {
   "cell_type": "code",
   "execution_count": 21,
   "metadata": {},
   "outputs": [],
   "source": [
    "myspark.add_line(line=[( \"2024-09-03\", 25.0, 60.0 )])"
   ]
  },
  {
   "cell_type": "code",
   "execution_count": 22,
   "metadata": {},
   "outputs": [
    {
     "name": "stdout",
     "output_type": "stream",
     "text": [
      "+----------+-----------+-------+\n",
      "|      data|temperatura|umidade|\n",
      "+----------+-----------+-------+\n",
      "|2024-09-03|       25.0|   60.0|\n",
      "+----------+-----------+-------+\n",
      "\n"
     ]
    }
   ],
   "source": [
    "myspark.dataframe.show()"
   ]
  },
  {
   "cell_type": "code",
   "execution_count": null,
   "metadata": {},
   "outputs": [],
   "source": [
    "# Salve o DataFrame como um arquivo Parquet\n",
    "df_resultado.write.mode(\"overwrite\").parquet(\"caminho/para/seu/arquivo.parquet\")\n"
   ]
  }
 ],
 "metadata": {
  "kernelspec": {
   "display_name": "esp",
   "language": "python",
   "name": "python3"
  },
  "language_info": {
   "codemirror_mode": {
    "name": "ipython",
    "version": 3
   },
   "file_extension": ".py",
   "mimetype": "text/x-python",
   "name": "python",
   "nbconvert_exporter": "python",
   "pygments_lexer": "ipython3",
   "version": "3.9.19"
  }
 },
 "nbformat": 4,
 "nbformat_minor": 2
}
