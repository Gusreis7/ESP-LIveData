{
 "cells": [
  {
   "cell_type": "code",
   "execution_count": 1,
   "metadata": {},
   "outputs": [],
   "source": [
    "import pandas as pd"
   ]
  },
  {
   "cell_type": "code",
   "execution_count": 2,
   "metadata": {},
   "outputs": [],
   "source": [
    "class PandasData():\n",
    "    def __init__(self,name_run) -> None:\n",
    "        self.name_run = name_run\n",
    "        self.df = pd.DataFrame(columns=['data','temperatura','umidade'])\n",
    "    \n",
    "    def add_line(self, data: str, temperatura: float, umidade: float):\n",
    "        self.df.loc[len(self.df)] = [data, temperatura, umidade]\n",
    "        if len(self.df)%100 == 0:\n",
    "            self.save_data()\n",
    "\n",
    "    def save_data(self):\n",
    "        self.df.to_csv(f\"{self.name_run}.csv\",index=False)"
   ]
  },
  {
   "cell_type": "code",
   "execution_count": 3,
   "metadata": {},
   "outputs": [],
   "source": [
    "base = PandasData(name_run='teste')"
   ]
  },
  {
   "cell_type": "code",
   "execution_count": 1,
   "metadata": {},
   "outputs": [
    {
     "data": {
      "text/html": [
       "<div>\n",
       "<style scoped>\n",
       "    .dataframe tbody tr th:only-of-type {\n",
       "        vertical-align: middle;\n",
       "    }\n",
       "\n",
       "    .dataframe tbody tr th {\n",
       "        vertical-align: top;\n",
       "    }\n",
       "\n",
       "    .dataframe thead th {\n",
       "        text-align: right;\n",
       "    }\n",
       "</style>\n",
       "<table border=\"1\" class=\"dataframe\">\n",
       "  <thead>\n",
       "    <tr style=\"text-align: right;\">\n",
       "      <th></th>\n",
       "      <th>data</th>\n",
       "      <th>temperatura</th>\n",
       "      <th>umidade</th>\n",
       "    </tr>\n",
       "  </thead>\n",
       "  <tbody>\n",
       "    <tr>\n",
       "      <th>0</th>\n",
       "      <td>2024-09-03 17:40:26</td>\n",
       "      <td>31.4</td>\n",
       "      <td>20.0</td>\n",
       "    </tr>\n",
       "    <tr>\n",
       "      <th>1</th>\n",
       "      <td>2024-09-03 17:40:26</td>\n",
       "      <td>31.4</td>\n",
       "      <td>20.0</td>\n",
       "    </tr>\n",
       "    <tr>\n",
       "      <th>2</th>\n",
       "      <td>2024-09-03 17:40:27</td>\n",
       "      <td>31.4</td>\n",
       "      <td>20.0</td>\n",
       "    </tr>\n",
       "    <tr>\n",
       "      <th>3</th>\n",
       "      <td>2024-09-03 17:40:27</td>\n",
       "      <td>31.4</td>\n",
       "      <td>20.0</td>\n",
       "    </tr>\n",
       "    <tr>\n",
       "      <th>4</th>\n",
       "      <td>2024-09-03 17:40:27</td>\n",
       "      <td>31.4</td>\n",
       "      <td>20.0</td>\n",
       "    </tr>\n",
       "    <tr>\n",
       "      <th>...</th>\n",
       "      <td>...</td>\n",
       "      <td>...</td>\n",
       "      <td>...</td>\n",
       "    </tr>\n",
       "    <tr>\n",
       "      <th>187895</th>\n",
       "      <td>2024-09-04 10:19:38</td>\n",
       "      <td>27.8</td>\n",
       "      <td>36.2</td>\n",
       "    </tr>\n",
       "    <tr>\n",
       "      <th>187896</th>\n",
       "      <td>2024-09-04 10:19:38</td>\n",
       "      <td>27.8</td>\n",
       "      <td>36.2</td>\n",
       "    </tr>\n",
       "    <tr>\n",
       "      <th>187897</th>\n",
       "      <td>2024-09-04 10:19:39</td>\n",
       "      <td>27.8</td>\n",
       "      <td>36.2</td>\n",
       "    </tr>\n",
       "    <tr>\n",
       "      <th>187898</th>\n",
       "      <td>2024-09-04 10:19:39</td>\n",
       "      <td>27.8</td>\n",
       "      <td>36.2</td>\n",
       "    </tr>\n",
       "    <tr>\n",
       "      <th>187899</th>\n",
       "      <td>2024-09-04 10:19:39</td>\n",
       "      <td>27.8</td>\n",
       "      <td>36.2</td>\n",
       "    </tr>\n",
       "  </tbody>\n",
       "</table>\n",
       "<p>187900 rows × 3 columns</p>\n",
       "</div>"
      ],
      "text/plain": [
       "                       data temperatura umidade\n",
       "0       2024-09-03 17:40:26        31.4    20.0\n",
       "1       2024-09-03 17:40:26        31.4    20.0\n",
       "2       2024-09-03 17:40:27        31.4    20.0\n",
       "3       2024-09-03 17:40:27        31.4    20.0\n",
       "4       2024-09-03 17:40:27        31.4    20.0\n",
       "...                     ...         ...     ...\n",
       "187895  2024-09-04 10:19:38        27.8    36.2\n",
       "187896  2024-09-04 10:19:38        27.8    36.2\n",
       "187897  2024-09-04 10:19:39        27.8    36.2\n",
       "187898  2024-09-04 10:19:39        27.8    36.2\n",
       "187899  2024-09-04 10:19:39        27.8    36.2\n",
       "\n",
       "[187900 rows x 3 columns]"
      ]
     },
     "execution_count": 1,
     "metadata": {},
     "output_type": "execute_result"
    }
   ],
   "source": [
    "import pandas as pd\n",
    "\n",
    "df =pd.read_csv(\"../flaskapp/teste.csv\")\n",
    "df"
   ]
  }
 ],
 "metadata": {
  "kernelspec": {
   "display_name": "esp",
   "language": "python",
   "name": "python3"
  },
  "language_info": {
   "codemirror_mode": {
    "name": "ipython",
    "version": 3
   },
   "file_extension": ".py",
   "mimetype": "text/x-python",
   "name": "python",
   "nbconvert_exporter": "python",
   "pygments_lexer": "ipython3",
   "version": "3.9.19"
  }
 },
 "nbformat": 4,
 "nbformat_minor": 2
}
